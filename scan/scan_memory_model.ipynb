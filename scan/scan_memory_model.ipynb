{
 "cells": [
  {
   "cell_type": "markdown",
   "metadata": {},
   "source": [
    "# SCAN: Initial modeling with memory models"
   ]
  },
  {
   "cell_type": "code",
   "execution_count": null,
   "metadata": {},
   "outputs": [],
   "source": [
    "import os\n",
    "\n",
    "os.environ['TF_CPP_MIN_LOG_LEVEL'] = '3'\n",
    "import tensorflow as tf\n",
    "from tensorflow.keras import layers\n",
    "import tensorflow_models as tfm\n",
    "\n",
    "import tensorflow_datasets as tfds\n",
    "import numpy as np\n",
    "\n",
    "%matplotlib inline\n",
    "import matplotlib.pyplot as plt\n",
    "\n",
    "import data_utils\n",
    "import model_utils\n",
    "\n",
    "from tqdm import tqdm, trange\n",
    "\n",
    "import sys; sys.path.append('../')\n",
    "import transformer_modules\n",
    "import utils"
   ]
  },
  {
   "cell_type": "markdown",
   "metadata": {},
   "source": [
    "[TODO]\n",
    "\n",
    "- implement gating\n",
    "- 2-stage training"
   ]
  },
  {
   "cell_type": "markdown",
   "metadata": {},
   "source": [
    "## Date prep"
   ]
  },
  {
   "cell_type": "code",
   "execution_count": null,
   "metadata": {},
   "outputs": [],
   "source": [
    "train_ds, test_ds, command_vectorizer, action_vectorizer = data_utils.load_scan_ds('simple')"
   ]
  },
  {
   "cell_type": "code",
   "execution_count": null,
   "metadata": {},
   "outputs": [],
   "source": [
    "print('# training samples:', len(train_ds))\n",
    "print('# testing samples:', len(test_ds))\n",
    "print()\n",
    "\n",
    "print('sample of input/target/label samples...')\n",
    "# print sample of dataset\n",
    "for (s, t), y in train_ds.take(3):\n",
    "    print(f'INPUT: {data_utils.invert_seq_vector(s.numpy(), command_vectorizer)}')\n",
    "    print(f'INPUT: {s.numpy()}')\n",
    "    print(f'TARGET: {data_utils.invert_seq_vector(t.numpy(), action_vectorizer)}')\n",
    "    print(f'TARGET: {t.numpy()}')\n",
    "    print(f'LABEL: {data_utils.invert_seq_vector(y.numpy(), action_vectorizer)}')\n",
    "    print(f'LABEL: {y.numpy()}')\n",
    "    print()"
   ]
  },
  {
   "cell_type": "code",
   "execution_count": null,
   "metadata": {},
   "outputs": [],
   "source": [
    "mem_train_ds = data_utils.create_memory_ds(train_ds, n_mems=16)\n",
    "mem_test_ds = data_utils.create_memory_ds(test_ds, n_mems=16, memory_bank=train_ds)"
   ]
  },
  {
   "cell_type": "code",
   "execution_count": null,
   "metadata": {},
   "outputs": [],
   "source": [
    "# TODO: perhaps sample via a generator so that different random samples of memory can be used for each epoch/batch?\n",
    "# this is at the expense of speed. from_tensor_slices is faster since .from_generator runs in python rather than C++"
   ]
  },
  {
   "cell_type": "markdown",
   "metadata": {},
   "source": [
    "## Utilities"
   ]
  },
  {
   "cell_type": "code",
   "execution_count": null,
   "metadata": {},
   "outputs": [],
   "source": [
    "def create_transformer_model(embedding_dim, enc_kwargs, dec_kwargs, hidden_dense_size,\n",
    "    source_vocab=len(command_vectorizer.get_vocabulary()), target_vocab=len(action_vectorizer.get_vocabulary())):\n",
    "\n",
    "    # define layers\n",
    "    x_embedder = layers.Embedding(input_dim=source_vocab, output_dim=embedding_dim, name='source_embedder')\n",
    "    y_embedder = layers.Embedding(input_dim=target_vocab, output_dim=embedding_dim, name='target_embedder')\n",
    "    add_pos_embedding_src = transformer_modules.AddPositionalEmbedding(name='pos_embedding_src')\n",
    "    add_pos_embedding_tgt = transformer_modules.AddPositionalEmbedding(name='pos_embedding_tgt')\n",
    "\n",
    "    encoder = transformer_modules.Encoder(**enc_kwargs, name='encoder')\n",
    "    decoder = transformer_modules.Decoder(**dec_kwargs, name='decoder')\n",
    "\n",
    "    hidden_dense = layers.Dense(hidden_dense_size, activation='relu', name='hidden_dense')\n",
    "    out_dense = layers.Dense(action_vectorizer.vocabulary_size(), name='output')\n",
    "\n",
    "    # define model\n",
    "    inputs = layers.Input(shape=train_ds.element_spec[0][0].shape, name='source [commands]')\n",
    "    targets = layers.Input(shape=train_ds.element_spec[0][1].shape, name='target [actions]')\n",
    "    x = x_embedder(inputs)\n",
    "    x = add_pos_embedding_src(x)\n",
    "    x = encoder(x)\n",
    "    y = y_embedder(targets)\n",
    "    y = add_pos_embedding_tgt(y)\n",
    "    y = decoder(y, x)\n",
    "    out = hidden_dense(y)\n",
    "    out = out_dense(out)\n",
    "\n",
    "    model = tf.keras.Model(inputs=[inputs, targets], outputs=out, name='transformer')\n",
    "    return model\n",
    "\n",
    "def create_memory_processor(embedding_dim, enc_kwargs, dec_kwargs, hidden_dense_size,\n",
    "    source_vocab=len(command_vectorizer.get_vocabulary()), target_vocab=len(action_vectorizer.get_vocabulary())):\n",
    "\n",
    "    # define layers\n",
    "    x_embedder = layers.Embedding(input_dim=source_vocab, output_dim=embedding_dim, name='source_embedder')\n",
    "    y_embedder = layers.Embedding(input_dim=target_vocab, output_dim=embedding_dim, name='target_embedder')\n",
    "    add_pos_embedding_src = transformer_modules.AddPositionalEmbedding(name='pos_embedding_src')\n",
    "    add_pos_embedding_tgt = transformer_modules.AddPositionalEmbedding(name='pos_embedding_tgt')\n",
    "\n",
    "    # NOTE: currently, self-attention in the decoder of the memory processor is causal! need not be\n",
    "    encoder = transformer_modules.Encoder(**enc_kwargs, name='encoder')\n",
    "    decoder = transformer_modules.Decoder(**dec_kwargs, name='decoder')\n",
    "\n",
    "    hidden_dense = layers.Dense(hidden_dense_size, activation='relu', name='hidden_dense')\n",
    "    out_dense = layers.Dense(action_vectorizer.vocabulary_size(), name='output')\n",
    "\n",
    "    # define model\n",
    "    inputs = layers.Input(shape=train_ds.element_spec[0][0].shape, name='source [commands]')\n",
    "    targets = layers.Input(shape=train_ds.element_spec[0][1].shape, name='target [actions]')\n",
    "    x = x_embedder(inputs)\n",
    "    x = add_pos_embedding_src(x)\n",
    "    x = encoder(x)\n",
    "    y = y_embedder(targets)\n",
    "    y = add_pos_embedding_tgt(y)\n",
    "    y = decoder(y, x)\n",
    "    out = y\n",
    "\n",
    "    model = tf.keras.Model(inputs=[inputs, targets], outputs=out, name='memory_processor')\n",
    "    return model"
   ]
  },
  {
   "cell_type": "markdown",
   "metadata": {},
   "source": [
    "## End-to-end Training of Memory Model"
   ]
  },
  {
   "cell_type": "code",
   "execution_count": null,
   "metadata": {},
   "outputs": [],
   "source": [
    "# hyperparams\n",
    "source_vocab = len(command_vectorizer.get_vocabulary())\n",
    "target_vocab = len(action_vectorizer.get_vocabulary())\n",
    "embedding_dim = 64\n",
    "\n",
    "hidden_dense_size = 128\n",
    "enc_kwargs = dict(num_layers=2, num_heads=4, dff=128, layernorm_first=True)\n",
    "hier_attn_kwargs = dict(key_dim=64//4, value_dim=None, n_heads=4, symmetric_kernel=False)\n",
    "dec_kwargs = dict(num_layers=2, num_heads=4, dff=128, layernorm_first=True, hier_attn_kwargs=hier_attn_kwargs)\n",
    "\n",
    "# memory-processer is a mini-transformer transformer\n",
    "mem_enc_kwargs = mem_dec_kwargs = dict(num_layers=1, num_heads=4, dff=64, layernorm_first=True)\n",
    "mem_processor_kwargs = dict(embedding_dim=embedding_dim, mem_enc_kwargs=mem_enc_kwargs,\n",
    "    mem_dec_kwargs=mem_dec_kwargs, hidden_dense_size=64)"
   ]
  },
  {
   "cell_type": "code",
   "execution_count": null,
   "metadata": {},
   "outputs": [],
   "source": [
    "from hierarchical_memory_decoder import HierMemoryDecoder"
   ]
  },
  {
   "cell_type": "code",
   "execution_count": null,
   "metadata": {},
   "outputs": [],
   "source": [
    "class HierarchicalAttnMemoryModel(tf.keras.Model):\n",
    "    def __init__(self, source_vocab, target_vocab, embedding_dim, enc_kwargs, dec_kwargs, mem_processor_kwargs, **kwargs):\n",
    "        super(HierarchicalAttnMemoryModel, self).__init__(**kwargs)\n",
    "        self.source_vocab = source_vocab\n",
    "        self.target_vocab = target_vocab\n",
    "        self.embedding_dim = embedding_dim\n",
    "        self.enc_kwargs = enc_kwargs\n",
    "        self.dec_kwargs = dec_kwargs\n",
    "        self.mem_processor_kwargs = mem_processor_kwargs\n",
    "\n",
    "        self.x_embedder = layers.Embedding(input_dim=source_vocab, output_dim=embedding_dim, name='source_embedder')\n",
    "        self.y_embedder = layers.Embedding(input_dim=target_vocab, output_dim=embedding_dim, name='target_embedder')\n",
    "        self.add_pos_embedding_src = transformer_modules.AddPositionalEmbedding(name='pos_embedding_src')\n",
    "        self.add_pos_embedding_tgt = transformer_modules.AddPositionalEmbedding(name='pos_embedding_tgt')\n",
    "\n",
    "        self.encoder = transformer_modules.Encoder(**enc_kwargs, name='encoder')\n",
    "        self.decoder = HierMemoryDecoder(**dec_kwargs, name='decoder')\n",
    "\n",
    "        self.memory_processor = create_memory_processor(embedding_dim, mem_enc_kwargs, mem_dec_kwargs, hidden_dense_size)\n",
    "\n",
    "        self.hidden_dense = layers.Dense(hidden_dense_size, activation='relu', name='hidden_dense')\n",
    "        self.out_dense = layers.Dense(action_vectorizer.vocabulary_size(), name='output')\n",
    "\n",
    "    def process_memory(self, mem_inputs, mem_targets):\n",
    "        # TODO: can i make the process of defining the output signature more elegant?\n",
    "        n_m = tf.shape(mem_inputs)[1]\n",
    "        tgt_len = tf.shape(mem_targets)[2]\n",
    "        out_dim = self.embedding_dim #self.memory_processor.output_shape[-1]\n",
    "        out_sig = tf.TensorSpec([n_m, tgt_len, out_dim], tf.float32)\n",
    "\n",
    "        processed_mem = tf.map_fn(self.memory_processor, (mem_inputs, mem_targets), fn_output_signature=out_sig)\n",
    "\n",
    "        # NOTE (temporary note)\n",
    "        # alternatively, cross-attend from target seq to input seq? (in this case target seq is shorter)\n",
    "        # but pre-training such a transformer would be difficult\n",
    "        # processed_mem = tf.map_fn(self.memory_processor, (mem_targets, mem_inputs), fn_output_signature=out_sig)\n",
    "\n",
    "        return processed_mem\n",
    "\n",
    "    def call(self, inputs):\n",
    "        ((input_seq, target_seq), (mem_inputs, mem_targets)) = inputs\n",
    "\n",
    "        x = self.x_embedder(input_seq)\n",
    "        x = self.add_pos_embedding_src(x)\n",
    "        x = self.encoder(x)\n",
    "\n",
    "        # process memory sequence\n",
    "        processed_memory = self.process_memory(mem_inputs, mem_targets)\n",
    "\n",
    "        # process target sequence (causally)\n",
    "        y = self.y_embedder(target_seq)\n",
    "        y = self.add_pos_embedding_tgt(y)\n",
    "        y = self.decoder(y, x, processed_memory)\n",
    "        out = self.hidden_dense(y)\n",
    "        out = self.out_dense(out)\n",
    "\n",
    "        return out"
   ]
  },
  {
   "cell_type": "code",
   "execution_count": null,
   "metadata": {},
   "outputs": [],
   "source": [
    "model = HierarchicalAttnMemoryModel(source_vocab, target_vocab, embedding_dim, enc_kwargs, dec_kwargs, mem_processor_kwargs)"
   ]
  },
  {
   "cell_type": "code",
   "execution_count": null,
   "metadata": {},
   "outputs": [],
   "source": [
    "# TODO: is it possible to fix building so that shapes work?\n",
    "for x, y in mem_train_ds.batch(32).take(1):\n",
    "    ((input_seq, target_seq), (mem_inputs, mem_targets)) = x\n",
    "    print('input_seq:', input_seq.shape[1:])\n",
    "    print('target_seq:', target_seq.shape[1:])\n",
    "    print('mem_inputs:', mem_inputs.shape[1:])\n",
    "    print('mem_targets:', mem_targets.shape[1:])\n",
    "    # get shapes for building model shape\n",
    "\n",
    "    input_shape = [None, *input_seq.get_shape().as_list()[1:]]\n",
    "    target_shape = [None, *target_seq.get_shape().as_list()[1:]]\n",
    "    mem_input_shape = [None, *mem_inputs.get_shape().as_list()[1:]]\n",
    "    mem_target_shape = [None, *mem_targets.get_shape().as_list()[1:]]\n",
    "    inputs_shape = [input_shape, target_shape, mem_input_shape, mem_target_shape]\n",
    "    print(f'inputs_shape: {inputs_shape}')\n",
    "    # model((input_seq, target_seq, mem_inputs, mem_targets))\n",
    "    model(x)\n",
    "    # model.build(inputs_shape)\n",
    "\n",
    "model.summary()"
   ]
  },
  {
   "cell_type": "code",
   "execution_count": null,
   "metadata": {},
   "outputs": [],
   "source": [
    "# compile model and optimization hyperparams\n",
    "loss = tf.keras.losses.SparseCategoricalCrossentropy(from_logits=True)\n",
    "optimizer = tf.keras.optimizers.Adam()\n",
    "metrics = [transformer_modules.TeacherForcingAccuracy(ignore_class=action_vectorizer.get_vocabulary().index(''))]\n",
    "model.compile(loss=loss, optimizer=optimizer, metrics=metrics, run_eagerly=True)\n",
    "batch_size = 128"
   ]
  },
  {
   "cell_type": "code",
   "execution_count": null,
   "metadata": {},
   "outputs": [],
   "source": [
    "val_size = 1000\n",
    "val_ds = mem_train_ds.take(val_size).batch(batch_size)\n",
    "train_ds_ = mem_train_ds.skip(val_size).batch(batch_size)"
   ]
  },
  {
   "cell_type": "code",
   "execution_count": null,
   "metadata": {},
   "outputs": [],
   "source": [
    "n_epochs = 10\n",
    "history = model.fit(train_ds_, validation_data=val_ds, epochs=n_epochs)"
   ]
  },
  {
   "cell_type": "code",
   "execution_count": null,
   "metadata": {},
   "outputs": [],
   "source": [
    "from datetime import datetime\n",
    "datetime_str = datetime.now().strftime(\"%Y-%m-%d-%H%M%S\")\n",
    "model.save_weights(f'model_checkpoints/memory_model-{datetime_str}.h5') # save model"
   ]
  },
  {
   "cell_type": "code",
   "execution_count": null,
   "metadata": {},
   "outputs": [],
   "source": [
    "utils.plot_history(history, plot_attrs=('loss', 'teacher_forcing_accuracy'), val=True);"
   ]
  },
  {
   "cell_type": "code",
   "execution_count": null,
   "metadata": {},
   "outputs": [],
   "source": [
    "def evaluate_model(model, mem_ds):\n",
    "    source, target, mem_source, mem_target, label = data_utils.unravel_mem_ds(mem_ds)\n",
    "    target_length = np.shape(target)[1]\n",
    "\n",
    "    pred = model_utils.mem_autoregressive_predict_batch(model, source, mem_source, mem_target, target_length,\n",
    "        start_token=action_vectorizer.get_vocabulary().index('<START>'), batch_size=256)\n",
    "\n",
    "    full_seq_acc = np.all(pred == label, axis=1).mean()\n",
    "    print(f'full seq acc: {full_seq_acc}')\n",
    "\n",
    "    per_token_acc = np.mean(pred == label)\n",
    "    print(f'per-token acc: {per_token_acc}')\n",
    "\n",
    "    # teacher-forcing accuracy on test data\n",
    "    _, tfacc = model.evaluate(mem_ds.batch(batch_size), verbose=False)\n",
    "    print(f'teacher-forcing accuracy: {tfacc}')\n",
    "\n",
    "    metrics = dict(pred=pred, label=label, full_seq_acc=full_seq_acc, tfacc=tfacc)\n",
    "\n",
    "    return metrics"
   ]
  },
  {
   "cell_type": "code",
   "execution_count": null,
   "metadata": {},
   "outputs": [],
   "source": [
    "print('TRAIN EVALUATION')\n",
    "train_metrics = evaluate_model(model, mem_train_ds)\n",
    "print('TEST EVALUATION')\n",
    "test_metrics = evaluate_model(model, mem_test_ds)"
   ]
  },
  {
   "cell_type": "code",
   "execution_count": null,
   "metadata": {},
   "outputs": [],
   "source": [
    "positional_avg_acc = np.mean(train_metrics['pred'] == train_metrics['label'], axis=0)\n",
    "fig, ax = plt.subplots()\n",
    "ax.plot(positional_avg_acc);\n",
    "ax.set_title('per-position accuracy');\n",
    "ax.set_xlabel('position');\n",
    "ax.set_ylabel('accuracy');"
   ]
  },
  {
   "cell_type": "code",
   "execution_count": null,
   "metadata": {},
   "outputs": [],
   "source": [
    "positional_avg_acc = np.mean(test_metrics['pred'] == test_metrics['label'], axis=0)\n",
    "fig, ax = plt.subplots()\n",
    "ax.plot(positional_avg_acc);\n",
    "ax.set_title('per-position accuracy');\n",
    "ax.set_xlabel('position');\n",
    "ax.set_ylabel('accuracy');"
   ]
  },
  {
   "cell_type": "markdown",
   "metadata": {},
   "source": [
    "## 2-Stage Training of Memory Model"
   ]
  }
 ],
 "metadata": {
  "kernelspec": {
   "display_name": "Python 3.10.12 ('tf')",
   "language": "python",
   "name": "python3"
  },
  "language_info": {
   "codemirror_mode": {
    "name": "ipython",
    "version": 3
   },
   "file_extension": ".py",
   "mimetype": "text/x-python",
   "name": "python",
   "nbconvert_exporter": "python",
   "pygments_lexer": "ipython3",
   "version": "3.10.12"
  },
  "vscode": {
   "interpreter": {
    "hash": "c42447f1c4240406d64c4df4cca87b5465b8a2bbd2ae4f1d6d833906715d3ac1"
   }
  }
 },
 "nbformat": 4,
 "nbformat_minor": 2
}
